{
 "cells": [
  {
   "cell_type": "code",
   "execution_count": 1,
   "metadata": {
    "collapsed": true
   },
   "outputs": [],
   "source": [
    "import pandas as pd"
   ]
  },
  {
   "cell_type": "code",
   "execution_count": 16,
   "metadata": {
    "collapsed": true
   },
   "outputs": [],
   "source": [
    "dataframe = pd.DataFrame([1, 2, 3, 4, -5, 6, -7, 8, -9, -1, -2, -3, 4, -5,])"
   ]
  },
  {
   "cell_type": "code",
   "execution_count": 17,
   "metadata": {
    "collapsed": true
   },
   "outputs": [],
   "source": [
    "def test_remove_negatives():\n",
    "    #result stores the result from the function call\n",
    "    result = remove_negatives(dataframe)\n",
    "    #loops through values\n",
    "    for val in result:\n",
    "        #checks if value is positive\n",
    "        assert val >= 0, \"Values should be positive.\"\n",
    "        \n",
    "def test_remove_positives():\n",
    "    #result stores the result from the function call\n",
    "    result = remove_positives(dataframe)\n",
    "    #loops through values\n",
    "    for val in result:\n",
    "        #checks if values are negative\n",
    "        assert val <= 0, \"Values should be negative.\""
   ]
  },
  {
   "cell_type": "code",
   "execution_count": 18,
   "metadata": {
    "collapsed": true
   },
   "outputs": [],
   "source": [
    "def remove_negatives(df):\n",
    "    #sets rows in the dataframe that are less than zero, equal to zero\n",
    "    df[df < 0] = 0\n",
    "    return df\n",
    "\n",
    "def remove_positives(df):\n",
    "    #sets rows in the dataframe that are greater than zero, equal to zero\n",
    "    df[df > 0] = 0\n",
    "    return df"
   ]
  },
  {
   "cell_type": "markdown",
   "metadata": {},
   "source": [
    "#Purpose of functions\n",
    "The purpose of these functions is to be able to compare decreases and increases in precipitation as separate variables. One of my variables represents the change in mm of rain relative to a 29 year average (1970 - 1999). My guess is that decreases and increases will have different effects on conflict occurance. These functions allow me to perform my statistical analysis as though these were different variables. "
   ]
  },
  {
   "cell_type": "code",
   "execution_count": 19,
   "metadata": {
    "collapsed": false
   },
   "outputs": [],
   "source": [
    "test_remove_negatives()\n",
    "test_remove_positives()"
   ]
  },
  {
   "cell_type": "code",
   "execution_count": null,
   "metadata": {
    "collapsed": true
   },
   "outputs": [],
   "source": []
  }
 ],
 "metadata": {
  "kernelspec": {
   "display_name": "Python 3",
   "language": "python",
   "name": "python3"
  },
  "language_info": {
   "codemirror_mode": {
    "name": "ipython",
    "version": 3
   },
   "file_extension": ".py",
   "mimetype": "text/x-python",
   "name": "python",
   "nbconvert_exporter": "python",
   "pygments_lexer": "ipython3",
   "version": "3.4.3"
  }
 },
 "nbformat": 4,
 "nbformat_minor": 0
}
